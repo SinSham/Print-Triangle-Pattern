{
  "nbformat": 4,
  "nbformat_minor": 0,
  "metadata": {
    "colab": {
      "provenance": [],
      "authorship_tag": "ABX9TyMv41Z4oyDtNXY4mJ2+CwMI",
      "include_colab_link": true
    },
    "kernelspec": {
      "name": "python3",
      "display_name": "Python 3"
    },
    "language_info": {
      "name": "python"
    }
  },
  "cells": [
    {
      "cell_type": "markdown",
      "metadata": {
        "id": "view-in-github",
        "colab_type": "text"
      },
      "source": [
        "<a href=\"https://colab.research.google.com/github/SinSham/Print-Triangle-Pattern-/blob/main/Celebal_Asnmt1.ipynb\" target=\"_parent\"><img src=\"https://colab.research.google.com/assets/colab-badge.svg\" alt=\"Open In Colab\"/></a>"
      ]
    },
    {
      "cell_type": "code",
      "execution_count": 14,
      "metadata": {
        "colab": {
          "base_uri": "https://localhost:8080/"
        },
        "id": "FHrseI_RTvJK",
        "outputId": "8e85502c-2234-4a8e-9f59-553cf1e2c8b8"
      },
      "outputs": [
        {
          "output_type": "stream",
          "name": "stdout",
          "text": [
            "*\n",
            "**\n",
            "***\n",
            "****\n",
            "*****\n",
            "******\n",
            "*******\n",
            "********\n",
            "*********\n",
            "**********\n"
          ]
        }
      ],
      "source": [
        "def lowerTriangular(dim):\n",
        "  for i in range(dim):\n",
        "    print(\"*\" * (i+1))\n",
        "\n",
        "\n",
        "lowerTriangular(10)"
      ]
    },
    {
      "cell_type": "code",
      "source": [
        "def upperTriangular(dim):\n",
        "  for i in range(dim):\n",
        "    print(\" \" * i, \"*\" * (dim - i))\n",
        "\n",
        "\n",
        "upperTriangular(10)"
      ],
      "metadata": {
        "colab": {
          "base_uri": "https://localhost:8080/"
        },
        "id": "fPSpvfSVVJfw",
        "outputId": "407eab50-858b-4f31-e968-8beee9ef73ad"
      },
      "execution_count": 15,
      "outputs": [
        {
          "output_type": "stream",
          "name": "stdout",
          "text": [
            " **********\n",
            "  *********\n",
            "   ********\n",
            "    *******\n",
            "     ******\n",
            "      *****\n",
            "       ****\n",
            "        ***\n",
            "         **\n",
            "          *\n"
          ]
        }
      ]
    },
    {
      "cell_type": "code",
      "source": [
        "def pyramid(height):\n",
        "  for i in range(height):\n",
        "    print(\" \" * (height - (i+1)), \"*\" * (2*i + 1))\n",
        "\n",
        "pyramid(10)\n"
      ],
      "metadata": {
        "colab": {
          "base_uri": "https://localhost:8080/"
        },
        "id": "Au-4aOZzVuTL",
        "outputId": "f9c021bb-cc48-4dd3-f975-fbaf4ed884b1"
      },
      "execution_count": 16,
      "outputs": [
        {
          "output_type": "stream",
          "name": "stdout",
          "text": [
            "          *\n",
            "         ***\n",
            "        *****\n",
            "       *******\n",
            "      *********\n",
            "     ***********\n",
            "    *************\n",
            "   ***************\n",
            "  *****************\n",
            " *******************\n"
          ]
        }
      ]
    }
  ]
}